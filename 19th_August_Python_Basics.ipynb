{
 "cells": [
  {
   "cell_type": "markdown",
   "id": "37ba50f5",
   "metadata": {},
   "source": [
    "### Python Basics Variable"
   ]
  },
  {
   "cell_type": "code",
   "execution_count": null,
   "id": "af14c015",
   "metadata": {},
   "outputs": [],
   "source": []
  },
  {
   "cell_type": "markdown",
   "id": "e1b07eee",
   "metadata": {},
   "source": [
    "1. Declare two variables, `x` and `y`, and assign them integer values. Swap the\n",
    "values of these variables without using any temporary variable."
   ]
  },
  {
   "cell_type": "code",
   "execution_count": 8,
   "id": "c0034e81",
   "metadata": {},
   "outputs": [
    {
     "name": "stdout",
     "output_type": "stream",
     "text": [
      "x = 5 , y = 10\n"
     ]
    }
   ],
   "source": [
    "x = 10\n",
    "y = 5\n",
    "\n",
    "# First add the two variables ie; 15\n",
    "x= x + y\n",
    "\n",
    "# Substract y from newly calculate value of x to get a new Y value \n",
    "# ie;15- 5 = 10\n",
    "y = x -y\n",
    "\n",
    "# now Substract new value of y value from New value of x \n",
    "# ie; 15 - 10 = 5\n",
    "x = x - y\n",
    "\n",
    "print(f\"x = {x} , y = {y}\") \n"
   ]
  },
  {
   "cell_type": "markdown",
   "id": "cb715f70",
   "metadata": {},
   "source": [
    "2. Create a program that calculates the area of a rectangle. Take the length and\n",
    "width as inputs from the user and store them in variables. Calculate and\n",
    "display the area."
   ]
  },
  {
   "cell_type": "code",
   "execution_count": 12,
   "id": "0f8618c6",
   "metadata": {},
   "outputs": [
    {
     "name": "stdout",
     "output_type": "stream",
     "text": [
      "area of the rectanle is 50\n"
     ]
    }
   ],
   "source": [
    "# area of a rectangle  = length x breadth\n",
    "def calc_rctagle_area( x , y):\n",
    "    area = x * y \n",
    "    print(f\"area of the rectanle is {area}\")\n",
    "\n",
    "calc_rctagle_area(10,5)\n"
   ]
  },
  {
   "cell_type": "markdown",
   "id": "141105f3",
   "metadata": {},
   "source": [
    "3. Write a Python program that converts temperatures from Celsius to\n",
    "Fahrenheit. Take the temperature in Celsius as input, store it in a variable,\n",
    "convert it to Fahrenheit, and display the result."
   ]
  },
  {
   "cell_type": "code",
   "execution_count": 24,
   "id": "aaeec835",
   "metadata": {},
   "outputs": [
    {
     "name": "stdout",
     "output_type": "stream",
     "text": [
      " Fahrenheit: 14.0°F\n"
     ]
    }
   ],
   "source": [
    "# °F = (°C x 1.8) + 32 \n",
    "def calc_Celsius_to_Fahrenheit(x):\n",
    "    f = (x * 1.8 ) + 32\n",
    "    print(f\" Fahrenheit: {f}°F\")\n",
    "    \n",
    "calc_Celsius_to_Fahrenheit(-10)    "
   ]
  },
  {
   "cell_type": "markdown",
   "id": "3d027246",
   "metadata": {},
   "source": [
    "### String Based Questions"
   ]
  },
  {
   "cell_type": "markdown",
   "id": "a84019a1",
   "metadata": {},
   "source": [
    "1. Write a Python program that takes a string as input and prints the length of\n",
    "the string."
   ]
  },
  {
   "cell_type": "code",
   "execution_count": 29,
   "id": "99761b19",
   "metadata": {},
   "outputs": [
    {
     "name": "stdout",
     "output_type": "stream",
     "text": [
      "sachin\n",
      "length of the x is 6\n"
     ]
    }
   ],
   "source": [
    "x = input()\n",
    "print(f'length of the x is {len(x)}')"
   ]
  },
  {
   "cell_type": "markdown",
   "id": "4c2da4ec",
   "metadata": {},
   "source": [
    "2. Create a program that takes a sentence from the user and counts the number\n",
    "of vowels (a, e, i, o, u) in the string."
   ]
  },
  {
   "cell_type": "code",
   "execution_count": 8,
   "id": "da53450c",
   "metadata": {},
   "outputs": [
    {
     "name": "stdout",
     "output_type": "stream",
     "text": [
      "this is a wishing bowl\n",
      "No of vowels in the string <<this is a wishing bowl>> is 6\n"
     ]
    }
   ],
   "source": [
    "# this is a wishing bowl\n",
    "x = input()\n",
    "vowels = ['a','e', 'i', 'o', 'u']\n",
    "ctr= 0\n",
    "for i in x:\n",
    "#     print(i)\n",
    "    if i in vowels:\n",
    "#         print(f'{i} is a Vowel') \n",
    "        ctr +=1\n",
    "\n",
    "print (f\"No of vowels in the string <<{x}>> is {ctr}\")"
   ]
  },
  {
   "cell_type": "markdown",
   "id": "2ac42b64",
   "metadata": {},
   "source": [
    "3. Given a string, reverse the order of characters using string slicing and print\n",
    "the reversed string."
   ]
  },
  {
   "cell_type": "code",
   "execution_count": 39,
   "id": "7e22f577",
   "metadata": {},
   "outputs": [
    {
     "name": "stdout",
     "output_type": "stream",
     "text": [
      "sledge\n",
      "Input string 'sledge' and reversed string is 'egdels'\n"
     ]
    }
   ],
   "source": [
    "x = input() \n",
    "print(f\"Input string '{x}' and reversed string is '{x[::-1]}'\")\n",
    "\n",
    "\n"
   ]
  },
  {
   "cell_type": "markdown",
   "id": "555ab4ab",
   "metadata": {},
   "source": [
    "4. Write a program that takes a string as input and checks if it is a palindrome\n",
    "(reads the same forwards and backwards)."
   ]
  },
  {
   "cell_type": "code",
   "execution_count": 55,
   "id": "4121fda3",
   "metadata": {},
   "outputs": [
    {
     "name": "stdout",
     "output_type": "stream",
     "text": [
      "Malayalam\n",
      "Input string Malayalam is a palindrome\n"
     ]
    }
   ],
   "source": [
    "x = input() \n",
    "\n",
    "if x.upper() == x[::-1].upper():\n",
    "    print(f\"Input string {x} is a palindrome\")\n",
    "else:\n",
    "    print(f\"Input string {x} is not a Palindrome\")\n"
   ]
  },
  {
   "cell_type": "markdown",
   "id": "0ff5f234",
   "metadata": {},
   "source": [
    "5. Create a program that takes a string as input and removes all the spaces from\n",
    "it. Print the modified string without spaces."
   ]
  },
  {
   "cell_type": "code",
   "execution_count": 50,
   "id": "f3bf9680",
   "metadata": {},
   "outputs": [
    {
     "name": "stdout",
     "output_type": "stream",
     "text": [
      "Print the modified string without spaces\n",
      "Printthemodifiedstringwithoutspaces\n"
     ]
    }
   ],
   "source": [
    "x = input()\n",
    "print(x.replace(' ',''))\n"
   ]
  },
  {
   "cell_type": "code",
   "execution_count": null,
   "id": "a64147e7",
   "metadata": {},
   "outputs": [],
   "source": []
  },
  {
   "cell_type": "code",
   "execution_count": null,
   "id": "78cf7bc4",
   "metadata": {},
   "outputs": [],
   "source": []
  }
 ],
 "metadata": {
  "kernelspec": {
   "display_name": "Python 3 (ipykernel)",
   "language": "python",
   "name": "python3"
  },
  "language_info": {
   "codemirror_mode": {
    "name": "ipython",
    "version": 3
   },
   "file_extension": ".py",
   "mimetype": "text/x-python",
   "name": "python",
   "nbconvert_exporter": "python",
   "pygments_lexer": "ipython3",
   "version": "3.9.12"
  }
 },
 "nbformat": 4,
 "nbformat_minor": 5
}
