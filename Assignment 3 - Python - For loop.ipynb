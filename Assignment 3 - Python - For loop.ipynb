{
 "cells": [
  {
   "cell_type": "code",
   "execution_count": 5,
   "id": "9d2703fc",
   "metadata": {},
   "outputs": [
    {
     "name": "stdout",
     "output_type": "stream",
     "text": [
      "1\n",
      "2\n",
      "3\n",
      "4\n",
      "5\n",
      "6\n",
      "7\n",
      "8\n",
      "9\n",
      "10\n"
     ]
    }
   ],
   "source": [
    "#1. Write a Python program to print the numbers from 1 to 10 using a `for` loop.\n",
    "\n",
    "for i in range(10):\n",
    "    print(i+1)"
   ]
  },
  {
   "cell_type": "code",
   "execution_count": 14,
   "id": "dadc4dcb",
   "metadata": {},
   "outputs": [
    {
     "name": "stdout",
     "output_type": "stream",
     "text": [
      "Sum Total = 31\n"
     ]
    }
   ],
   "source": [
    "#2. Create a program that calculates the sum of all numbers in a list using a `for` loop.\n",
    "x= [1,2,3,4,5,6,10]\n",
    "\n",
    "addnum =0 \n",
    "\n",
    "for i in x:\n",
    "    addnum +=i\n",
    "print('Sum Total =',addnum)\n",
    "\n"
   ]
  },
  {
   "cell_type": "code",
   "execution_count": 55,
   "id": "d67b1d92",
   "metadata": {},
   "outputs": [
    {
     "name": "stdout",
     "output_type": "stream",
     "text": [
      "fossil fuel\n",
      "leuf lissof\n"
     ]
    }
   ],
   "source": [
    "# 3. Write a program to print the characters of a string in reverse order using a `for` loop.\n",
    "\n",
    "string = 'fossil fuel'\n",
    "print(string)\n",
    "ctr = len(string)\n",
    "rstring = ''\n",
    "# print(ctr)\n",
    "for i in range(ctr):\n",
    "    ctr-=1\n",
    "    rstring = rstring + string[ctr]\n",
    "print(rstring.strip())    "
   ]
  },
  {
   "cell_type": "code",
   "execution_count": 103,
   "id": "eb782c73",
   "metadata": {},
   "outputs": [
    {
     "name": "stdout",
     "output_type": "stream",
     "text": [
      "factorial of 10 is 3628800\n"
     ]
    }
   ],
   "source": [
    "# 4. Develop a program that finds the factorial of a given number using a `for` loop.\n",
    "no = 10\n",
    "# print(no)\n",
    "fact = 1\n",
    "for i in reversed(range(no)):\n",
    "    fact*=i+1\n",
    "\n",
    "print(f\"factorial of {no} is {fact}\")\n",
    "\n"
   ]
  },
  {
   "cell_type": "code",
   "execution_count": 133,
   "id": "962b239a",
   "metadata": {},
   "outputs": [
    {
     "name": "stdout",
     "output_type": "stream",
     "text": [
      "3 * 1 = 3\n",
      "3 * 2 = 6\n",
      "3 * 3 = 9\n",
      "3 * 4 = 12\n",
      "3 * 5 = 15\n",
      "3 * 6 = 18\n",
      "3 * 7 = 21\n",
      "3 * 8 = 24\n",
      "3 * 9 = 27\n",
      "3 * 10 = 30\n"
     ]
    }
   ],
   "source": [
    "# 5. Create a program to print the multiplication table of a given number using a `for` loop.\n",
    "no = 3\n",
    "# print(no)\n",
    "multiply = 1\n",
    "for i in range(10):\n",
    "    multiply = no *(i+1)\n",
    "    print(f\"{no} * {i+1} = {multiply}\")\n"
   ]
  },
  {
   "cell_type": "code",
   "execution_count": 125,
   "id": "c6be583f",
   "metadata": {},
   "outputs": [
    {
     "name": "stdout",
     "output_type": "stream",
     "text": [
      "  4 Evens and 5 odds in the list \n"
     ]
    }
   ],
   "source": [
    "# 6. Write a program that counts the number of even and odd numbers in a list using a `for` loop.\n",
    "\n",
    "lst = [1,2,3,44,65,7,92,0,-1]\n",
    "mod =  0\n",
    "even_ctr = 0\n",
    "odd_ctr = 0\n",
    "for i in lst:\n",
    "    mod = i % 2\n",
    "#     print(mod)\n",
    "\n",
    "    if mod == 0:\n",
    "#         print('even' , i)\n",
    "        even_ctr+=1\n",
    "    else:\n",
    "#         print('odd' , i)\n",
    "        odd_ctr +=1\n",
    "print(f\"  {even_ctr} Evens and {odd_ctr} odds in the list \" )\n"
   ]
  },
  {
   "cell_type": "code",
   "execution_count": 138,
   "id": "98fa7fd3",
   "metadata": {},
   "outputs": [
    {
     "name": "stdout",
     "output_type": "stream",
     "text": [
      "[1, 4, 9, 16, 25]\n"
     ]
    }
   ],
   "source": [
    "# 7. Develop a program that prints the squares of numbers from 1 to 5 using a `for` loop.\n",
    "sqrt =[]\n",
    "for i in range(1,6):\n",
    "    sqrt.append(i**2)\n",
    "print(sqrt)\n",
    "    "
   ]
  },
  {
   "cell_type": "code",
   "execution_count": 5,
   "id": "a493ec3c",
   "metadata": {},
   "outputs": [
    {
     "name": "stdout",
     "output_type": "stream",
     "text": [
      "fossil fuel\n",
      "length offossil fuel is 11 \n"
     ]
    }
   ],
   "source": [
    "# 8. Create a program to find the length of a string without using the `len()` function.\n",
    "string = 'fossil fuel'\n",
    "print(string)\n",
    "ctr = 0 \n",
    "for i in string:\n",
    "    ctr+=1\n",
    "print(f\"length of{string} is {ctr} \")    "
   ]
  },
  {
   "cell_type": "code",
   "execution_count": 147,
   "id": "fd50fa02",
   "metadata": {},
   "outputs": [
    {
     "name": "stdout",
     "output_type": "stream",
     "text": [
      "23.666666666666668\n"
     ]
    }
   ],
   "source": [
    "# 9. Write a program that calculates the average of a list of numbers using a `for` loop.\n",
    "lst = [1,2,3,44,65,7,92,0,-1]\n",
    "sum = 0 \n",
    "ctr = 0\n",
    "avg = 0\n",
    "for i in lst:\n",
    "    sum +=i\n",
    "    ctr +=1\n",
    "avg  = sum/ctr\n",
    "print(avg)\n",
    "    "
   ]
  },
  {
   "cell_type": "code",
   "execution_count": 2,
   "id": "357a7d11",
   "metadata": {},
   "outputs": [
    {
     "name": "stdout",
     "output_type": "stream",
     "text": [
      "[1, 1, 2, 3, 5, 8, 13, 21, 34, 55]\n"
     ]
    }
   ],
   "source": [
    "# 10. Develop a program that prints the first `n` Fibonacci numbers using a `for` loop.\n",
    "no = 10 \n",
    "fib= []\n",
    "a = 0\n",
    "b = 1\n",
    "c = 0\n",
    "for i in range(no):\n",
    "    c = a + b\n",
    "    a = b\n",
    "    b = c\n",
    "    fib.append(a)\n",
    "print( fib )\n",
    "    \n"
   ]
  },
  {
   "cell_type": "code",
   "execution_count": 38,
   "id": "5317878d",
   "metadata": {},
   "outputs": [
    {
     "name": "stdout",
     "output_type": "stream",
     "text": [
      "Dup found 1\n",
      "list contains duplicates [1]\n"
     ]
    }
   ],
   "source": [
    "# 11. Write a program to check if a given list contains any duplicates using a for loop.\n",
    "lst = [1, 2, 3, 5, 8, 13, 21, 34, 55,1]\n",
    "\n",
    "dist = []\n",
    "dup = []\n",
    "for  i in lst:\n",
    "    if i not in dist:\n",
    "        dist.append(i)\n",
    "    else :\n",
    "        dup.append(i)\n",
    "        print('Dup found' ,i)\n",
    "        \n",
    "if  len(dup) > 0:        \n",
    "    print('list contains duplicates',dup)\n",
    "else:\n",
    "    print('list does not contains duplicates')\n",
    "\n",
    "\n",
    "    "
   ]
  },
  {
   "cell_type": "code",
   "execution_count": 88,
   "id": "c86ef4c0",
   "metadata": {},
   "outputs": [
    {
     "name": "stdout",
     "output_type": "stream",
     "text": [
      " Prime No is [2, 3, 5, 13]\n"
     ]
    }
   ],
   "source": [
    "# 12. Create a program that prints the prime numbers in a given range using a `for` loop.\n",
    "lst = [1, 2, 3, 5, 8, 13, 21, 34, 55]\n",
    "prime = []\n",
    "non_prime = []\n",
    "for  i in lst:\n",
    "#     print('first loop ' ,i)\n",
    "    calc= []\n",
    "    if i == 1: # or i%2 == 0 :\n",
    "        non_prime.append(i)\n",
    "    elif i == 2 :\n",
    "        prime.append (i)\n",
    "    else:\n",
    "        for n in range(2,i):\n",
    "            mod = i%n\n",
    "#             print('Second loop ' ,i, n,mod)            \n",
    "            calc.append(mod) \n",
    "#         print (calc)\n",
    "        if 0 in calc :\n",
    "#             print(\"Not a Prime\", i )\n",
    "            non_prime.append(i)\n",
    "        else:\n",
    "#             print(\"Is Prime\", i )\n",
    "            prime.append(i)\n",
    "                \n",
    "print(f\" Prime No is {prime}\")                \n",
    "        "
   ]
  },
  {
   "cell_type": "code",
   "execution_count": 98,
   "id": "ef079e6f",
   "metadata": {},
   "outputs": [
    {
     "name": "stdout",
     "output_type": "stream",
     "text": [
      "no of Vowels in the String is 5\n"
     ]
    }
   ],
   "source": [
    "# 13. Develop a program that counts the number of vowels in a string using a `for` loop.\n",
    "vowels = ('aeiou')\n",
    "string = 'What in your mind'\n",
    "ctr  = 0\n",
    "for  i in string:\n",
    "#     print(i)\n",
    "    if i in (vowels):\n",
    "#         print('Vowels',i)\n",
    "        ctr +=1\n",
    "        \n",
    "print(f\"no of Vowels in the String is {ctr}\")        "
   ]
  },
  {
   "cell_type": "code",
   "execution_count": 100,
   "id": "fcd61a44",
   "metadata": {},
   "outputs": [
    {
     "name": "stdout",
     "output_type": "stream",
     "text": [
      "([0, 0, 1, 0, 0, 1], [0, 1, 0, 2, 0, 0])\n"
     ]
    }
   ],
   "source": []
  },
  {
   "cell_type": "code",
   "execution_count": 127,
   "id": "1fea72b0",
   "metadata": {},
   "outputs": [
    {
     "name": "stdout",
     "output_type": "stream",
     "text": [
      "maximum elementmax is 25\n"
     ]
    }
   ],
   "source": [
    "# 14. Write a program to find the maximum element in a 2D list using a nested `for` loop.\n",
    "dim = [[0, 0, 1, 25, 0, 1], [0, 2, 3, 2, 5, 13]]\n",
    "# print(type(dim))\n",
    "max = 0\n",
    "for i in dim :\n",
    "#     print(i, type(i))\n",
    "    for d in sorted(i):\n",
    "#         print(d, type(d))\n",
    "        if d> max:\n",
    "            max = d\n",
    "print(f\"maximum elementmax is {max}\")\n",
    "        "
   ]
  },
  {
   "cell_type": "code",
   "execution_count": 130,
   "id": "61353164",
   "metadata": {},
   "outputs": [
    {
     "name": "stdout",
     "output_type": "stream",
     "text": [
      "[0, 2, 3, 2, 5]\n"
     ]
    }
   ],
   "source": [
    "# 15. Create a program that removes all occurrences of a specific element from a list using a `for` loop.\n",
    "lst = [0, 2, 3, 2, 5, 13]\n",
    "rem = 13\n",
    "for x in lst:\n",
    "    if rem ==x:\n",
    "        lst.remove(rem)\n",
    "print(lst)        "
   ]
  },
  {
   "cell_type": "code",
   "execution_count": 135,
   "id": "b87c8ebf",
   "metadata": {},
   "outputs": [
    {
     "name": "stdout",
     "output_type": "stream",
     "text": [
      "Multiplication of 1 \n",
      "1 * 1 = 1\n",
      "1 * 2 = 2\n",
      "1 * 3 = 3\n",
      "1 * 4 = 4\n",
      "1 * 5 = 5\n",
      "1 * 6 = 6\n",
      "1 * 7 = 7\n",
      "1 * 8 = 8\n",
      "1 * 9 = 9\n",
      "1 * 10 = 10\n",
      "Multiplication of 2 \n",
      "2 * 1 = 2\n",
      "2 * 2 = 4\n",
      "2 * 3 = 6\n",
      "2 * 4 = 8\n",
      "2 * 5 = 10\n",
      "2 * 6 = 12\n",
      "2 * 7 = 14\n",
      "2 * 8 = 16\n",
      "2 * 9 = 18\n",
      "2 * 10 = 20\n",
      "Multiplication of 3 \n",
      "3 * 1 = 3\n",
      "3 * 2 = 6\n",
      "3 * 3 = 9\n",
      "3 * 4 = 12\n",
      "3 * 5 = 15\n",
      "3 * 6 = 18\n",
      "3 * 7 = 21\n",
      "3 * 8 = 24\n",
      "3 * 9 = 27\n",
      "3 * 10 = 30\n",
      "Multiplication of 4 \n",
      "4 * 1 = 4\n",
      "4 * 2 = 8\n",
      "4 * 3 = 12\n",
      "4 * 4 = 16\n",
      "4 * 5 = 20\n",
      "4 * 6 = 24\n",
      "4 * 7 = 28\n",
      "4 * 8 = 32\n",
      "4 * 9 = 36\n",
      "4 * 10 = 40\n",
      "Multiplication of 5 \n",
      "5 * 1 = 5\n",
      "5 * 2 = 10\n",
      "5 * 3 = 15\n",
      "5 * 4 = 20\n",
      "5 * 5 = 25\n",
      "5 * 6 = 30\n",
      "5 * 7 = 35\n",
      "5 * 8 = 40\n",
      "5 * 9 = 45\n",
      "5 * 10 = 50\n"
     ]
    }
   ],
   "source": [
    "# 16. Develop a program that generates a multiplication table for numbers from 1 to 5 using a nested `for` loop.\n",
    "# print(no)\n",
    "multiply = 1\n",
    "\n",
    "for n in range(1,6):\n",
    "    print(f\"Multiplication of {n} \")\n",
    "    for i in range(10):\n",
    "        multiply = n *(i+1)\n",
    "        print(f\"{n} * {i+1} = {multiply}\")"
   ]
  },
  {
   "cell_type": "code",
   "execution_count": 139,
   "id": "9b7a8126",
   "metadata": {},
   "outputs": [
    {
     "name": "stdout",
     "output_type": "stream",
     "text": [
      "in Celsius [26.666666666666664, -3.888888888888889, 2.2222222222222223, -6.666666666666666, 12.222222222222221, 50.0]\n"
     ]
    }
   ],
   "source": [
    "# 17. Write a program that converts a list of Fahrenheit temperatures to Celsius using a `for` loop.\n",
    "# Celsius=(Fahrenheit−32)/1.8\n",
    "# Fahrenheit=(Celsius∗1.8)+32\n",
    "fahren  = [80, 25, 36, 20, 54, 122]\n",
    "celsius = []\n",
    "for x in fahren:\n",
    "    celsius.append((x-32)/1.8)\n",
    "print(f\"in Celsius {celsius}\") \n"
   ]
  },
  {
   "cell_type": "code",
   "execution_count": 161,
   "id": "2fcfbb9d",
   "metadata": {},
   "outputs": [
    {
     "name": "stdout",
     "output_type": "stream",
     "text": [
      "maximum elementmax is [0, 25]\n"
     ]
    }
   ],
   "source": [
    "# 18. Create a program to print the common elements from two lists using a `for` loop.\n",
    "dim1 = [0, 0, 1, 25, 0, 1]\n",
    "dim2 = [0, 2, 3, 25, 5, 13]\n",
    "common =[] \n",
    "for i in dim1:\n",
    "#     print(i, type(i))\n",
    "    for d in dim2:\n",
    "#         print(i,d)\n",
    "        if i == d:\n",
    "            if d not in common:\n",
    "#                 print('common Elements', d)\n",
    "                common.append(d)\n",
    "            \n",
    "         \n",
    "print(f\"Commmon element is {common}\")"
   ]
  },
  {
   "cell_type": "code",
   "execution_count": 178,
   "id": "13a1b64e",
   "metadata": {},
   "outputs": [
    {
     "name": "stdout",
     "output_type": "stream",
     "text": [
      "*\n",
      "*\n",
      "*\n",
      "*\n",
      "*\n",
      "*\n",
      "*\n",
      "*\n",
      "*\n",
      "* * * * * * * * * * "
     ]
    }
   ],
   "source": [
    "# 19. Develop a program that prints the pattern of right-angled triangles using a `for` loop. Use ‘*’ to draw the\n",
    "for x in range(1,10):\n",
    "    print('*')\n",
    "for x in range(1,11):\n",
    "    print('*',end = ' ')\n",
    "    \n"
   ]
  },
  {
   "cell_type": "code",
   "execution_count": 14,
   "id": "d5da1c12",
   "metadata": {},
   "outputs": [
    {
     "name": "stdout",
     "output_type": "stream",
     "text": [
      "[[1, 2, 3, 4, 6, 8, 12, 24], [1, 3, 5, 7, 9, 15, 21, 35, 45, 63, 105, 315]]\n",
      "Common factor are [1, 3] and GCD is 3\n"
     ]
    }
   ],
   "source": [
    "# 20. Write a program to find the greatest common divisor (GCD) of two numbers using a `for` loop.\n",
    "#Listing method\n",
    "no  = [24,315]\n",
    "factors= []\n",
    "\n",
    "for d in no:\n",
    "    factor_no1 = []\n",
    "    for  i in range(1,d+1):\n",
    "        q = d//i\n",
    "        r = d%i\n",
    "        if r == 0:\n",
    "#             print(no1, i, 'Quation',q,'Remainder',r) \n",
    "            factor_no1.append(i)\n",
    "    factors.append(factor_no1)\n",
    "print(factors)            \n",
    "res = list(set(factors[0]).intersection(*factors[1:]))\n",
    "GCD = res[len(res)-1]\n",
    "\n",
    "print(f\"Common factor are {res} and GCD is {GCD}\")\n"
   ]
  },
  {
   "cell_type": "code",
   "execution_count": 221,
   "id": "5d43b1b8",
   "metadata": {},
   "outputs": [
    {
     "name": "stdout",
     "output_type": "stream",
     "text": [
      "7\n",
      "Index of the max element in a list is 10\n"
     ]
    }
   ],
   "source": [
    "\n",
    "# Defining a list\n",
    "l = [1, 4, 3, 7, 8, 10, 2]\n",
    " \n",
    "# Calculating the maximum element\n",
    "# in the list\n",
    "m = sorted(l)\n",
    "print(len(m))\n",
    "# Finding the index of the maximum\n",
    "# element\n",
    "print(\"Index of the max element in a list is\", m[len(m)-1])"
   ]
  },
  {
   "cell_type": "code",
   "execution_count": 13,
   "id": "66d5a2f0",
   "metadata": {},
   "outputs": [
    {
     "name": "stdout",
     "output_type": "stream",
     "text": [
      "35\n"
     ]
    }
   ],
   "source": [
    "# 21. Create a program that calculates the sum of the digits of numbers in a list using a list comprehension.\n",
    "l = [1, 4, 3, 7, 8, 10, 2]\n",
    "sum = 0\n",
    "[sum :=sum + x for x in l]\n",
    "    \n",
    "print(sum)"
   ]
  },
  {
   "cell_type": "code",
   "execution_count": 31,
   "id": "f4392baa",
   "metadata": {},
   "outputs": [
    {
     "name": "stdout",
     "output_type": "stream",
     "text": [
      "[100, 3232, 57, 90]\n"
     ]
    }
   ],
   "source": [
    "list = [100, 3232, 3232, 3232, 57, 57, 90]\n",
    "new_list = []\n",
    "\n",
    "[new_list.append(x) for x in list if x not in new_list]\n",
    "\n",
    "print(new_list)"
   ]
  },
  {
   "cell_type": "code",
   "execution_count": null,
   "id": "835aecaf",
   "metadata": {},
   "outputs": [],
   "source": [
    "# 22. Write a program to find the prime factors of a given number using a `for` loop and list comprehension.\n"
   ]
  },
  {
   "cell_type": "code",
   "execution_count": 45,
   "id": "0d6f6c24",
   "metadata": {},
   "outputs": [
    {
     "name": "stdout",
     "output_type": "stream",
     "text": [
      "['apple', 'banana', 'cherry', 'kiwi', 'mango']\n"
     ]
    }
   ],
   "source": [
    "# 23. Develop a program that extracts unique elements from a list and stores them in a new list using a list\n",
    "# comprehension\n",
    "fruits = [\"apple\", \"banana\", \"cherry\", \"kiwi\", \"mango\",\"kiwi\",\"apple\"]\n",
    "new_list = []\n",
    "\n",
    "[new_list.append(x) for x in fruits if x not in new_list ]\n",
    "\n",
    "print(new_list)\n",
    "\n"
   ]
  },
  {
   "cell_type": "code",
   "execution_count": 64,
   "id": "6f96ba6c",
   "metadata": {},
   "outputs": [
    {
     "name": "stdout",
     "output_type": "stream",
     "text": [
      "[1, 2, 3, 4, 5, 6, 7, 8, 9, 11, 22, 33, 44, 55, 66, 77, 88, 99, 101]\n"
     ]
    }
   ],
   "source": [
    "# 24. Create a program that generates a list of all palindromic numbers up to a specified limit using a list\n",
    "# comprehension.\n",
    "limit = 101\n",
    "new_list = []\n",
    "\n",
    "[new_list.append(x) for x in range (1,limit+1) if str(x) == str(x)[::-1]]\n",
    "print(new_list)\n"
   ]
  },
  {
   "cell_type": "code",
   "execution_count": 74,
   "id": "f0c26631",
   "metadata": {},
   "outputs": [
    {
     "name": "stdout",
     "output_type": "stream",
     "text": [
      "[11, 22, 33, 44, 55, 66, 77, 88, 99, 100]\n"
     ]
    }
   ],
   "source": [
    "# 25. Write a program to flatten a nested list using list comprehension.\n",
    "lis = [[11, 22, 33, 44], [55, 66, 77], [88, 99, 100]]\n",
    "\n",
    "new_list=[]\n",
    "\n",
    "flatList = [element for innerList in lis for element in innerList]\n",
    "\n",
    "# [new_list.append(x) for x in nest if type(x) == 'list']\n",
    "\n",
    "print(flatList)\n",
    "# for x in nest :\n",
    "#     print(x)\n"
   ]
  },
  {
   "cell_type": "code",
   "execution_count": 5,
   "id": "5a86541a",
   "metadata": {},
   "outputs": [
    {
     "name": "stdout",
     "output_type": "stream",
     "text": [
      "240\n",
      "401\n"
     ]
    }
   ],
   "source": [
    "# 26. Develop a program that computes the sum of even and odd numbers in a list separately using list\n",
    "# comprehension\n",
    "lst = [1, 2, 3, 4, 5, 6, 7, 8, 9, 11, 22, 33, 44, 55, 66, 77, 88, 99, 101]\n",
    "even_lst = 0\n",
    "odd_lst = 0\n",
    "\n",
    "# for  x in lst :\n",
    "#     if x%2 == 0:\n",
    "#         even_lst.append(x)\n",
    "#     else:\n",
    "#         odd_lst.append(x)\n",
    "\n",
    "# Using comprehension\n",
    "\n",
    "[even_lst := even_lst + x for x in lst if x%2 == 0]\n",
    "[odd_lst  := odd_lst  + x for x in lst if x%2 != 0]\n",
    "\n",
    "print(even_lst)\n",
    "print(odd_lst)\n",
    "\n",
    "\n"
   ]
  },
  {
   "cell_type": "code",
   "execution_count": 1,
   "id": "e59fd205",
   "metadata": {},
   "outputs": [
    {
     "name": "stdout",
     "output_type": "stream",
     "text": [
      "[1, 9, 25, 49, 81]\n"
     ]
    }
   ],
   "source": [
    "# 27. Create a program that generates a list of squares of odd numbers between 1 and 10 using list\n",
    "# comprehension.\n",
    "lst = [1, 2, 3, 4, 5, 6, 7, 8, 9, 10]\n",
    "odd_lst = []\n",
    "\n",
    "odd_lst = [x**2 for x in lst if x%2 != 0]\n",
    "\n",
    "print(odd_lst)"
   ]
  },
  {
   "cell_type": "code",
   "execution_count": 8,
   "id": "4c0e9b20",
   "metadata": {},
   "outputs": [
    {
     "name": "stdout",
     "output_type": "stream",
     "text": [
      "{1: 100, 2: 200, 3: 300, 4: 400, 5: 500}\n"
     ]
    }
   ],
   "source": [
    "# 28. Write a program that combines two lists into a dictionary using list comprehension.\n",
    "lst1 = [1, 2, 3, 4, 5 ]\n",
    "lst2 = [100, 200, 300, 400, 500 ]\n",
    "\n",
    "# zip(lst1,lst2)\n",
    "\n",
    "newd = {}\n",
    "newd = {l1:l2 for (l1,l2) in zip(lst1,lst2)}\n",
    "print(newd)\n"
   ]
  },
  {
   "cell_type": "code",
   "execution_count": 9,
   "id": "eb2ae41d",
   "metadata": {},
   "outputs": [
    {
     "name": "stdout",
     "output_type": "stream",
     "text": [
      "['o', 'i', 'u', 'e', 'o', 'a']\n"
     ]
    }
   ],
   "source": [
    "# 29. Develop a program that extracts the vowels from a string and stores them in a list using list comprehension.\n",
    "\n",
    "str = 'fossil fuel company'\n",
    "vowels = ('aeiou')\n",
    "\n",
    "lst = []\n",
    "\n",
    "lst = [i for i in str if i in vowels]\n",
    "print (lst)\n"
   ]
  },
  {
   "cell_type": "code",
   "execution_count": 63,
   "id": "51bb397c",
   "metadata": {},
   "outputs": [
    {
     "name": "stdout",
     "output_type": "stream",
     "text": [
      "['fossil', 'area', 'company', '']\n"
     ]
    }
   ],
   "source": [
    "# 30. Create a program that removes all non-numeric characters from a list of strings using list comprehension.\n",
    "import re \n",
    "lst = ['fossil', 'area51', 'company0','1']\n",
    "no='0123456789'\n",
    "nlst = []\n",
    "newstr = ''\n",
    "\n",
    "newstr = [re.sub('\\d','', i) for i in lst ]\n",
    "print (newstr)"
   ]
  },
  {
   "cell_type": "code",
   "execution_count": 159,
   "id": "b1b6125d",
   "metadata": {},
   "outputs": [
    {
     "name": "stdout",
     "output_type": "stream",
     "text": [
      "[2, 3, 5, 7, 11, 13, 17, 19]\n"
     ]
    }
   ],
   "source": [
    "# 31. Write a program to generate a list of prime numbers using the Sieve of Eratosthenes algorithm and list comprehension.\n",
    "\n",
    "def isprime(no : int):\n",
    "    calc= []\n",
    "    if no == 1: \n",
    "        return False\n",
    "    elif no == 2 :\n",
    "        return True\n",
    "    else:\n",
    "        for n in range(2,no):\n",
    "            mod = no%n\n",
    "            calc.append(mod) \n",
    "        if 0 in calc :\n",
    "            return False\n",
    "        else:\n",
    "            return True\n",
    "                \n",
    "no  = 20\n",
    "prime = [x for x in range(1,no) if isprime(x) == True]\n",
    "print(prime)"
   ]
  },
  {
   "cell_type": "code",
   "execution_count": 134,
   "id": "48f09c11",
   "metadata": {},
   "outputs": [
    {
     "name": "stdout",
     "output_type": "stream",
     "text": [
      "[(3, 4, 5), (4, 3, 5), (5, 12, 13), (6, 8, 10), (8, 6, 10), (8, 15, 17), (9, 12, 15), (12, 5, 13), (12, 9, 15), (12, 16, 20), (15, 8, 17), (16, 12, 20)]\n"
     ]
    }
   ],
   "source": [
    "# 32. Create a program that generates a list of all Pythagorean triplets up to a specified limit using list\n",
    "# comprehension.\n",
    "lmit = 20\n",
    "triplets = []\n",
    "# for x in range (1,lmit):\n",
    "#     for y in range (2,lmit):\n",
    "#         xsqr = x**2\n",
    "#         ysqr = y**2\n",
    "#         sqrsum = xsqr + ysqr\n",
    "#         sqrof = sqrsum**0.5\n",
    "#         if sqrof.is_integer():\n",
    "#             if sorted([x,y,int(sqrof)]) not in trp:\n",
    "#                 trp.append(sorted([x,y,int(sqrof)]))\n",
    "\n",
    "trip=[]\n",
    "def pytha_triplets(x :int , y :int):\n",
    "#         print(x , y)\n",
    "    trp = []\n",
    "    xsqr = x**2\n",
    "    ysqr = y**2\n",
    "    sqrsum = xsqr + ysqr\n",
    "    sqrof = sqrsum**0.5\n",
    "\n",
    "    if sqrof.is_integer():\n",
    "#         return sorted((x,y,int(sqrof)))\n",
    "        return (x,y,int(sqrof))\n",
    "\n",
    "triplets = [pytha_triplets(x,y) for x in range (1,lmit) for y in range (2,lmit) if (pytha_triplets(x,y)) ]\n",
    "print(triplets )                  \n"
   ]
  },
  {
   "cell_type": "code",
   "execution_count": 81,
   "id": "48a9a784",
   "metadata": {},
   "outputs": [
    {
     "name": "stdout",
     "output_type": "stream",
     "text": [
      "[('a', 1), ('a', 2), ('b', 1), ('b', 2), ('d', 1), ('d', 2)]\n"
     ]
    }
   ],
   "source": [
    "# 33. Develop a program that generates a list of all possible combinations of two lists using list comprehension.\n",
    "l1 = [\"a\",\"b\",'d']\n",
    "l2 = [1,2]\n",
    "l3 = []\n",
    "\n",
    "# for x in l1 :\n",
    "#     for y in l2:\n",
    "#         print(x,y)\n",
    "#         l3.append((x,y))\n",
    "    \n",
    "l3 = [(x,y) for x in l1 for y in l2 ]    \n",
    "    \n",
    "    \n",
    "print(l3)               \n",
    "\n"
   ]
  },
  {
   "cell_type": "code",
   "execution_count": 61,
   "id": "1962f326",
   "metadata": {},
   "outputs": [
    {
     "name": "stdout",
     "output_type": "stream",
     "text": [
      " Mean: 15.4 Median: 6.5 Mode: 4.0 \n"
     ]
    }
   ],
   "source": [
    "# 34. Write a program that calculates the mean, median, and mode of a list of numbers using list\n",
    "# comprehension.\n",
    "\n",
    "no = [10, 2.0, 3.0, 4.0,4,9, 6.0, 7.0, 8.0, 101]\n",
    "l = len(no)\n",
    "sort = sorted(no)\n",
    "\n",
    "mean = sum(no) / len(no)\n",
    "\n",
    "if l % 2 ==0 :\n",
    "    median  = (sort[l//2-1] + sort[l//2])/2\n",
    "else:\n",
    "    median  = (sort[l//2] )\n",
    "\n",
    "num_count  = {x : sort.count(x) for x in sort }  \n",
    "mode = [key for key , values  in num_count.items() if values ==  max(num_count.values()) ]\n",
    "\n",
    "print(f\" Mean: {mean} Median: {median} Mode: {mode[0]} \")\n",
    "\n"
   ]
  },
  {
   "cell_type": "code",
   "execution_count": 5,
   "id": "bdf35429",
   "metadata": {},
   "outputs": [
    {
     "name": "stdout",
     "output_type": "stream",
     "text": [
      "Enter the limit for Pascal's Triangle: 10\n",
      "[[1], [1, 1], [1, 2, 1], [1, 3, 3, 1], [1, 4, 6, 4, 1], [1, 5, 10, 10, 5, 1], [1, 6, 15, 20, 15, 6, 1], [1, 7, 21, 35, 35, 21, 7, 1], [1, 8, 28, 56, 70, 56, 28, 8, 1], [1, 9, 36, 84, 126, 126, 84, 36, 9, 1]]\n",
      "              1               \n",
      "             1 1              \n",
      "            1 2 1             \n",
      "           1 3 3 1            \n",
      "          1 4 6 4 1           \n",
      "        1 5 10 10 5 1         \n",
      "       1 6 15 20 15 6 1       \n",
      "     1 7 21 35 35 21 7 1      \n",
      "    1 8 28 56 70 56 28 8 1    \n",
      " 1 9 36 84 126 126 84 36 9 1  \n"
     ]
    }
   ],
   "source": [
    "# 35. Create a program that generates Pascal's triangle up to a specified number of rows using list\n",
    "# comprehension.\n",
    "\n",
    "def gen_triangle(n):\n",
    "    result = []\n",
    "    for i in range(n):\n",
    "        if i == 0:\n",
    "            result.append([1])\n",
    "        else:\n",
    "            prev_row = result[-1]\n",
    "            new_row = [1]\n",
    "            for j in range(1, len(prev_row)):\n",
    "                new_row.append(prev_row[j-1] + prev_row[j])\n",
    "            new_row.append(1)\n",
    "            result.append(new_row)\n",
    "    return result\n",
    "\n",
    "\n",
    "n = int(input(\"Enter the limit for Pascal's Triangle: \"))\n",
    "triangle = gen_triangle(n)\n",
    "print(triangle)\n",
    "\n",
    "width = len(triangle[-1]) * 3\n",
    "for row in triangle:\n",
    "        print(' '.join(str(num) for num in row).center(width))"
   ]
  },
  {
   "cell_type": "code",
   "execution_count": 52,
   "id": "0a77b4e5",
   "metadata": {},
   "outputs": [
    {
     "name": "stdout",
     "output_type": "stream",
     "text": [
      "153\n"
     ]
    }
   ],
   "source": [
    "# 36. Develop a program that calculates the sum of the digits of a factorial of numbers from 1 to 5 using list\n",
    "# comprehension\n",
    "\n",
    "def factorial(n):\n",
    "    sum = 1 \n",
    "    while n >0:\n",
    "\n",
    "        if n == 1 :\n",
    "            sum = sum * n\n",
    "            break\n",
    "        else:\n",
    "            f = n * (n-1)\n",
    "            n-=2\n",
    "            sum*=f\n",
    "    return sum        \n",
    "\n",
    "# print(factorial(4))\n",
    "\n",
    "sumfact = 0\n",
    "[sumfact := sumfact+ factorial(x) for x in range(1,5+1) ]\n",
    "\n",
    "print(sumfact)"
   ]
  },
  {
   "cell_type": "code",
   "execution_count": 89,
   "id": "33bf88bd",
   "metadata": {},
   "outputs": [
    {
     "name": "stdout",
     "output_type": "stream",
     "text": [
      "['hypercare']\n"
     ]
    }
   ],
   "source": [
    "# 37. Write a program that finds the longest word in a sentence using list comprehension.\n",
    "lst = ['1234', 'jackson', 'hypercare']\n",
    "length = {x : len(x) for x in lst }\n",
    "long = [key for key , values  in length.items() if values ==  max(length.values()) ]\n",
    "\n",
    "print(long)"
   ]
  },
  {
   "cell_type": "code",
   "execution_count": 135,
   "id": "6af15162",
   "metadata": {},
   "outputs": [
    {
     "name": "stdout",
     "output_type": "stream",
     "text": [
      "['Midjourney']\n"
     ]
    }
   ],
   "source": [
    "# 38. Create a program that filters a list of strings to include only those with more than three vowels using list\n",
    "# comprehension.\n",
    "\n",
    "lst = ['pika labs', 'Dalle', 'Midjourney']\n",
    "\n",
    "def cout_vowels(str):\n",
    "    vowels=('aeiou')\n",
    "    return sum (1 for i in str if i in vowels)\n",
    "    \n",
    "vowelctr = [x for x in lst if cout_vowels(x) > 3]\n",
    "print(vowelctr)\n",
    "\n",
    "\n"
   ]
  },
  {
   "cell_type": "code",
   "execution_count": 3,
   "id": "37c37813",
   "metadata": {},
   "outputs": [
    {
     "name": "stdout",
     "output_type": "stream",
     "text": [
      "46\n"
     ]
    }
   ],
   "source": [
    "# 39. Develop a program that calculates the sum of the digits of numbers from 1 to 1000 using list\n",
    "# comprehension.\n",
    "def sum_of_digits(number):\n",
    "    digit_sum = 0\n",
    "    while number > 0:\n",
    "        digit_sum += number % 10  # Add the last digit\n",
    "        number //= 10            # Remove the last digit\n",
    "    return digit_sum\n",
    "total_sum = 0\n",
    "\n",
    "limit= 10\n",
    "[total_sum :=  total_sum + sum_of_digits(i) for i in range (limit+1) ]\n",
    "\n",
    "print(total_sum)"
   ]
  },
  {
   "cell_type": "code",
   "execution_count": 44,
   "id": "4c07a019",
   "metadata": {},
   "outputs": [
    {
     "name": "stdout",
     "output_type": "stream",
     "text": [
      "[1, 2, 3, 4, 5, 6, 7, 8, 9, 11, 22, 33, 44, 55, 66, 77, 88, 99, 101, 111, 121, 131, 141, 151, 161, 171, 181, 191, 202, 212, 222, 232, 242, 252]\n"
     ]
    }
   ],
   "source": [
    "# 40. Write a program that generates a list of prime palindromic numbers using list comprehension.\n",
    "\n",
    "limit = 255\n",
    "paln=[]\n",
    "paln = [x for x in range(1,limit+1) if str(x) == str(x)[::-1]]\n",
    "print(paln)\n"
   ]
  }
 ],
 "metadata": {
  "kernelspec": {
   "display_name": "Python 3 (ipykernel)",
   "language": "python",
   "name": "python3"
  },
  "language_info": {
   "codemirror_mode": {
    "name": "ipython",
    "version": 3
   },
   "file_extension": ".py",
   "mimetype": "text/x-python",
   "name": "python",
   "nbconvert_exporter": "python",
   "pygments_lexer": "ipython3",
   "version": "3.9.12"
  }
 },
 "nbformat": 4,
 "nbformat_minor": 5
}
